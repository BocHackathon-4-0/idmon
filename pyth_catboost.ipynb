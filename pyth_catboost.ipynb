{
 "cells": [
  {
   "cell_type": "code",
   "execution_count": 28,
   "id": "af6d7719",
   "metadata": {},
   "outputs": [
    {
     "name": "stdout",
     "output_type": "stream",
     "text": [
      "ARPU: $15.00\n",
      "Gross Margin %: 60.00%\n",
      "Churn Rate: 10.00%\n",
      "LTV: $9000.00\n",
      "Root Mean Squared Error (RMSE): 2.07\n",
      "R-squared (Coefficient of Determination): 0.99\n"
     ]
    },
    {
     "data": {
      "image/png": "[encoded data removed]",
      "text/plain": [
       "<Figure size 432x288 with 1 Axes>"
      ]
     },
     "metadata": {
      "needs_background": "light"
     },
     "output_type": "display_data"
    }
   ],
   "source": [
    "import pandas as pd\n",
    "import numpy as np\n",
    "import xgboost as xgb\n",
    "from sklearn.model_selection import train_test_split\n",
    "from sklearn.metrics import mean_squared_error, r2_score\n",
    "import matplotlib.pyplot as plt\n",
    "\n",
    "n_users = 10000\n",
    "n_active_users = 3000\n",
    "revenue_per_user = 50\n",
    "cogs_per_user = 20\n",
    "churn_rate = 0.1\n",
    "\n",
    "user_ids = range(1, n_users + 1)\n",
    "\n",
    "user_df = pd.DataFrame({'user_id': user_ids})\n",
    "\n",
    "active_users = np.random.choice(user_ids, n_active_users, replace=False)\n",
    "user_df['is_active'] = user_df['user_id'].isin(active_users)\n",
    "\n",
    "user_df['registration_date'] = pd.date_range(start='2020-01-01', periods=n_users, freq='D')\n",
    "user_df['last_activity_date'] = pd.NaT\n",
    "user_df.loc[user_df['is_active'], 'last_activity_date'] = pd.date_range(start='2020-01-01', periods=len(active_users), freq='D')\n",
    "\n",
    "total_revenue = n_active_users * revenue_per_user\n",
    "arpu = total_revenue / n_users\n",
    "\n",
    "total_cogs = n_active_users * cogs_per_user\n",
    "gross_margin = ((total_revenue - total_cogs) / total_revenue) * 100\n",
    "\n",
    "churn_rate = churn_rate\n",
    "\n",
    "ltv = (arpu * gross_margin) / churn_rate\n",
    "\n",
    "print(f\"ARPU: ${arpu:.2f}\")\n",
    "print(f\"Gross Margin %: {gross_margin:.2f}%\")\n",
    "print(f\"Churn Rate: {churn_rate:.2%}\")\n",
    "print(f\"LTV: ${ltv:.2f}\")\n",
    "\n",
    "n_users = 10000\n",
    "\n",
    "activity_prob = 0.03\n",
    "active_users = np.random.choice(np.arange(1, n_users + 1), size=int(n_users * activity_prob), replace=False)\n",
    "\n",
    "user_df = pd.DataFrame({'user_id': np.arange(1, n_users + 1)})\n",
    "user_df['is_active'] = user_df['user_id'].isin(active_users)\n",
    "user_df['registration_date'] = pd.date_range(start='2020-01-01', periods=n_users, freq='D')\n",
    "user_df['last_activity_date'] = pd.NaT\n",
    "user_df.loc[user_df['is_active'], 'last_activity_date'] = pd.date_range(start='2020-01-01', periods=len(active_users), freq='D')\n",
    "\n",
    "user_df['revenue'] = np.random.randint(1, 100, size=n_users)\n",
    "\n",
    "user_df['lifetime'] = np.random.randint(1, 365, size=n_users)\n",
    "\n",
    "user_df['avg_daily_revenue'] = user_df['revenue'] / user_df['lifetime']\n",
    "\n",
    "user_df['LTV'] = user_df.apply(lambda row: row['avg_daily_revenue'] * row['lifetime'], axis=1)\n",
    "\n",
    "X = user_df[['lifetime', 'avg_daily_revenue']]\n",
    "y = user_df['LTV']\n",
    "\n",
    "X_train, X_test, y_train, y_test = train_test_split(X, y, test_size=0.2, random_state=42)\n",
    "\n",
    "xgb_regressor = xgb.XGBRegressor(objective=\"reg:squarederror\")\n",
    "\n",
    "xgb_regressor.fit(X_train, y_train)\n",
    "\n",
    "y_pred = xgb_regressor.predict(X_test)\n",
    "\n",
    "rmse = np.sqrt(mean_squared_error(y_test, y_pred))\n",
    "r_squared = r2_score(y_test, y_pred)\n",
    "\n",
    "print(f\"Root Mean Squared Error (RMSE): {rmse:.2f}\")\n",
    "print(f\"R-squared (Coefficient of Determination): {r_squared:.2f}\")\n",
    "\n",
    "xgb.plot_importance(xgb_regressor)\n",
    "plt.show()\n"
   ]
  },
  {
   "cell_type": "code",
   "execution_count": null,
   "id": "5fb08239",
   "metadata": {},
   "outputs": [],
   "source": []
  }
 ],
 "metadata": {
  "kernelspec": {
   "display_name": "Python 3 (ipykernel)",
   "language": "python",
   "name": "python3"
  },
  "language_info": {
   "codemirror_mode": {
    "name": "ipython",
    "version": 3
   },
   "file_extension": ".py",
   "mimetype": "text/x-python",
   "name": "python",
   "nbconvert_exporter": "python",
   "pygments_lexer": "ipython3",
   "version": "3.9.7"
  }
 },
 "nbformat": 4,
 "nbformat_minor": 5
}
