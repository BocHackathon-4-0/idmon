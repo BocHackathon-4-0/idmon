{
 "cells": [
  {
   "cell_type": "code",
   "execution_count": 14,
   "id": "8393cc08",
   "metadata": {},
   "outputs": [
    {
     "name": "stdout",
     "output_type": "stream",
     "text": [
      "Mean Squared Error (MSE): 3.623357585665317\n",
      "R-squared (R^2) Value: 0.9955352479177906\n"
     ]
    },
    {
     "data": {
      "image/png": "[encoded data removed]",
      "text/plain": [
       "<Figure size 432x288 with 1 Axes>"
      ]
     },
     "metadata": {
      "needs_background": "light"
     },
     "output_type": "display_data"
    }
   ],
   "source": [
    "import pandas as pd\n",
    "import numpy as np\n",
    "import xgboost as xgb\n",
    "from sklearn.model_selection import train_test_split\n",
    "from sklearn.metrics import mean_squared_error, r2_score\n",
    "import matplotlib.pyplot as plt\n",
    "\n",
    "n_users = 10000\n",
    "\n",
    "activity_prob = 0.03\n",
    "active_users = np.random.choice(np.arange(1, n_users + 1), size=int(n_users * activity_prob), replace=False)\n",
    "\n",
    "user_df = pd.DataFrame({'user_id': np.arange(1, n_users + 1)})\n",
    "user_df['is_active'] = user_df['user_id'].isin(active_users)\n",
    "user_df['registration_date'] = pd.date_range(start='2020-01-01', periods=n_users, freq='D')\n",
    "user_df['last_activity_date'] = pd.NaT\n",
    "user_df.loc[user_df['is_active'], 'last_activity_date'] = pd.date_range(start='2020-01-01', periods=len(active_users), freq='D')\n",
    "\n",
    "user_df['revenue'] = np.random.randint(1, 100, size=n_users)\n",
    "\n",
    "user_df['lifetime'] = np.random.randint(1, 365, size=n_users)\n",
    "\n",
    "user_df['avg_daily_revenue'] = user_df['revenue'] / user_df['lifetime']\n",
    "\n",
    "user_df['LTV'] = user_df.apply(lambda row: row['avg_daily_revenue'] * row['lifetime'], axis=1)\n",
    "\n",
    "X = user_df[['lifetime', 'avg_daily_revenue']]\n",
    "y = user_df['LTV']\n",
    "\n",
    "X_train, X_test, y_train, y_test = train_test_split(X, y, test_size=0.2, random_state=42)\n",
    "\n",
    "model = xgb.XGBRegressor()\n",
    "model.fit(X_train, y_train)\n",
    "\n",
    "y_pred = model.predict(X_test)\n",
    "\n",
    "mse = mean_squared_error(y_test, y_pred)\n",
    "print(f\"Mean Squared Error (MSE): {mse}\")\n",
    "\n",
    "r2 = r2_score(y_test, y_pred)\n",
    "print(f\"R-squared (R^2) Value: {r2}\")\n",
    "\n",
    "xgb.plot_importance(model)\n",
    "plt.show()"
   ]
  },
  {
   "cell_type": "code",
   "execution_count": null,
   "id": "d0f62589",
   "metadata": {},
   "outputs": [],
   "source": []
  },
  {
   "cell_type": "code",
   "execution_count": null,
   "id": "269d0598",
   "metadata": {},
   "outputs": [],
   "source": []
  }
 ],
 "metadata": {
  "kernelspec": {
   "display_name": "Python 3 (ipykernel)",
   "language": "python",
   "name": "python3"
  },
  "language_info": {
   "codemirror_mode": {
    "name": "ipython",
    "version": 3
   },
   "file_extension": ".py",
   "mimetype": "text/x-python",
   "name": "python",
   "nbconvert_exporter": "python",
   "pygments_lexer": "ipython3",
   "version": "3.9.7"
  }
 },
 "nbformat": 4,
 "nbformat_minor": 5
}
